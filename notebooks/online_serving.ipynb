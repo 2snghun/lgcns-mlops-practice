{
 "cells": [
  {
   "cell_type": "code",
   "execution_count": null,
   "metadata": {},
   "outputs": [],
   "source": [
    "import json\n",
    "\n",
    "import pandas as pd\n",
    "import requests"
   ]
  },
  {
   "cell_type": "code",
   "execution_count": null,
   "metadata": {},
   "outputs": [],
   "source": [
    "new_data = pd.read_csv(\"../data/house_rent_new.csv\")\n",
    "actual = new_data[[\"id\", \"rent\"]].set_index(\"id\")[\"rent\"].to_dict()"
   ]
  },
  {
   "cell_type": "code",
   "execution_count": null,
   "metadata": {},
   "outputs": [],
   "source": [
    "new_data = new_data.set_index(\"id\").drop([\"rent\"], axis=1)"
   ]
  },
  {
   "cell_type": "code",
   "execution_count": null,
   "metadata": {},
   "outputs": [],
   "source": [
    "for i, row in new_data[:10].iterrows():\n",
    "    response = requests.post(\n",
    "        \"http://127.0.0.1:3000/predict\", data=json.dumps(row.to_dict())\n",
    "    )\n",
    "    prediction = response.json()[0]\n",
    "    response.close()\n",
    "\n",
    "    print(\n",
    "        f\"Prediction for User {i}: {prediction:.2f}\\t\"\n",
    "        f\"Actual value: {actual.get(i, 0)}\"\n",
    "    )"
   ]
  },
  {
   "cell_type": "code",
   "execution_count": null,
   "metadata": {},
   "outputs": [],
   "source": []
  }
 ],
 "metadata": {
  "kernelspec": {
   "display_name": "mlenv",
   "language": "python",
   "name": "python3"
  },
  "language_info": {
   "codemirror_mode": {
    "name": "ipython",
    "version": 3
   },
   "file_extension": ".py",
   "mimetype": "text/x-python",
   "name": "python",
   "nbconvert_exporter": "python",
   "pygments_lexer": "ipython3",
   "version": "3.9.13"
  },
  "orig_nbformat": 4
 },
 "nbformat": 4,
 "nbformat_minor": 2
}
