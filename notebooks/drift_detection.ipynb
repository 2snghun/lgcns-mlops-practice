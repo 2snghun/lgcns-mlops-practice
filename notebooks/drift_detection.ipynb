{
 "cells": [
  {
   "cell_type": "code",
   "execution_count": 1,
   "metadata": {},
   "outputs": [],
   "source": [
    "import sys\n",
    "\n",
    "sys.path.append(\"/codespaces/mlops-practice\")"
   ]
  },
  {
   "cell_type": "code",
   "execution_count": 2,
   "metadata": {},
   "outputs": [
    {
     "name": "stderr",
     "output_type": "stream",
     "text": [
      "deepchecks - WARNING - You are using deepchecks version 0.14.1.dev1, however a newer version is available. Deepchecks is frequently updated with major improvements. You should consider upgrading via the \"python -m pip install --upgrade deepchecks\" command.\n",
      "/Users/jayhan/.local/share/virtualenvs/lgcns-mlops-practice-AYgFIZsr/lib/python3.9/site-packages/sklearn/preprocessing/_function_transformer.py:343: UserWarning:\n",
      "\n",
      "With transform=\"pandas\", `func` should return a DataFrame to follow the set_output API.\n",
      "\n"
     ]
    }
   ],
   "source": [
    "import os\n",
    "\n",
    "import joblib\n",
    "from datetime import datetime\n",
    "\n",
    "import numpy as np\n",
    "import pandas as pd\n",
    "from deepchecks.tabular import Dataset\n",
    "from deepchecks.tabular.suites import train_test_validation, model_evaluation\n",
    "\n",
    "from src.common.constants import (\n",
    "    ARTIFACT_PATH,\n",
    "    DATA_PATH,\n",
    ")\n",
    "from src.preprocess import CAT_FEATURES"
   ]
  },
  {
   "cell_type": "code",
   "execution_count": 3,
   "metadata": {},
   "outputs": [],
   "source": [
    "DATE = datetime.now().strftime(\"%Y%m%d\")\n",
    "LABEL_NAME = \"rent\""
   ]
  },
  {
   "cell_type": "code",
   "execution_count": 70,
   "metadata": {},
   "outputs": [],
   "source": [
    "train_df = pd.read_csv(\n",
    "    os.path.join(DATA_PATH, \"house_rent_train.csv\"),\n",
    "    usecols=lambda x: x not in [\"area_locality\", \"posted_on\", \"id\"],\n",
    ")\n",
    "new_df = pd.read_csv(\n",
    "    os.path.join(DATA_PATH, \"house_rent_new.csv\"),\n",
    "    usecols=lambda x: x not in [\"area_locality\", \"posted_on\", \"id\"],\n",
    ")"
   ]
  },
  {
   "attachments": {},
   "cell_type": "markdown",
   "metadata": {},
   "source": [
    "## Data Drift"
   ]
  },
  {
   "cell_type": "code",
   "execution_count": 71,
   "metadata": {},
   "outputs": [],
   "source": [
    "train_set = Dataset(\n",
    "    train_df, \n",
    "    label=LABEL_NAME,\n",
    "    cat_features=CAT_FEATURES,\n",
    "    )\n",
    "new_set = Dataset(\n",
    "    new_df, \n",
    "    label=LABEL_NAME,\n",
    "    cat_features=CAT_FEATURES,\n",
    "    )"
   ]
  },
  {
   "cell_type": "code",
   "execution_count": 72,
   "metadata": {},
   "outputs": [],
   "source": [
    "validation_suite = train_test_validation()\n",
    "suite_result = validation_suite.run(train_set, new_set)"
   ]
  },
  {
   "cell_type": "code",
   "execution_count": 73,
   "metadata": {},
   "outputs": [],
   "source": [
    "DRIFT_DETECTION_PATH = os.path.join(\n",
    "    ARTIFACT_PATH, \"drift_detection\"\n",
    ")\n",
    "\n",
    "if not os.path.exists(DRIFT_DETECTION_PATH):\n",
    "    os.makedirs(DRIFT_DETECTION_PATH)"
   ]
  },
  {
   "cell_type": "code",
   "execution_count": 74,
   "metadata": {},
   "outputs": [
    {
     "name": "stdout",
     "output_type": "stream",
     "text": [
      "Feature Drift\n",
      "Failed for 3 out of 8 columns.\n",
      "Found 3 categorical columns with Cramer's V above threshold: {'area_type': '0.23', 'city': '0.21', 'point_of_contact': '0.31'}\n",
      "Label Drift\n",
      "Label's drift score Kolmogorov-Smirnov is 0.25\n",
      "Multivariate Drift\n",
      "Found drift value of: 0.42, corresponding to a domain classifier AUC of: 0.71\n"
     ]
    }
   ],
   "source": [
    "for result in suite_result.get_not_passed_checks():\n",
    "    print(result.header)\n",
    "    print(result.conditions_results[0].details)"
   ]
  },
  {
   "cell_type": "code",
   "execution_count": 8,
   "metadata": {},
   "outputs": [
    {
     "data": {
      "text/plain": [
       "'/Users/jayhan/lgcns-mlops-practice/artifacts/drift_detection/20230607_drift_detection (1).html'"
      ]
     },
     "execution_count": 8,
     "metadata": {},
     "output_type": "execute_result"
    }
   ],
   "source": [
    "suite_result.save_as_html(\n",
    "    os.path.join(DRIFT_DETECTION_PATH, f\"{DATE}_drift_detection.html\")\n",
    ")"
   ]
  },
  {
   "cell_type": "code",
   "execution_count": 9,
   "metadata": {},
   "outputs": [
    {
     "data": {
      "application/vnd.jupyter.widget-view+json": {
       "model_id": "a80680f9d6184e14859125983b2904d2",
       "version_major": 2,
       "version_minor": 0
      },
      "text/plain": [
       "Accordion(children=(VBox(children=(HTML(value='\\n<h1 id=\"summary_4WIHXGHF8T2OIR5HTUDOJ9U87\">Train Test Validat…"
      ]
     },
     "metadata": {},
     "output_type": "display_data"
    }
   ],
   "source": [
    "suite_result.show()"
   ]
  },
  {
   "attachments": {},
   "cell_type": "markdown",
   "metadata": {},
   "source": [
    "---"
   ]
  },
  {
   "attachments": {},
   "cell_type": "markdown",
   "metadata": {},
   "source": [
    "## Model Drift"
   ]
  },
  {
   "cell_type": "code",
   "execution_count": 10,
   "metadata": {},
   "outputs": [],
   "source": [
    "from src.preprocess import preprocess_pipeline"
   ]
  },
  {
   "cell_type": "code",
   "execution_count": 11,
   "metadata": {},
   "outputs": [],
   "source": [
    "model = joblib.load(os.path.join(ARTIFACT_PATH, \"model.pkl\"))"
   ]
  },
  {
   "cell_type": "code",
   "execution_count": 12,
   "metadata": {},
   "outputs": [],
   "source": [
    "y_train = np.log1p(train_df[LABEL_NAME])\n",
    "x_train = preprocess_pipeline.fit_transform(\n",
    "    X=train_df.drop([LABEL_NAME], axis=1),\n",
    "    y=y_train\n",
    ")\n",
    "\n",
    "y_new = np.log1p(new_df[LABEL_NAME])\n",
    "x_new = preprocess_pipeline.fit_transform(\n",
    "    X=new_df.drop([LABEL_NAME], axis=1),\n",
    "    y=y_new\n",
    ")"
   ]
  },
  {
   "cell_type": "code",
   "execution_count": 13,
   "metadata": {},
   "outputs": [],
   "source": [
    "train_set = Dataset(\n",
    "    x_train,\n",
    "    label=y_train,\n",
    "    cat_features=CAT_FEATURES,\n",
    ")\n",
    "new_set = Dataset(\n",
    "    x_new,\n",
    "    label=y_new,\n",
    "    cat_features=CAT_FEATURES,\n",
    ")"
   ]
  },
  {
   "cell_type": "code",
   "execution_count": 32,
   "metadata": {},
   "outputs": [
    {
     "name": "stderr",
     "output_type": "stream",
     "text": [
      "deepchecks - WARNING - You are using deepchecks version 0.14.1.dev1, however a newer version is available. Deepchecks is frequently updated with major improvements. You should consider upgrading via the \"python -m pip install --upgrade deepchecks\" command.\n",
      "deepchecks - WARNING - You are using deepchecks version 0.14.1.dev1, however a newer version is available. Deepchecks is frequently updated with major improvements. You should consider upgrading via the \"python -m pip install --upgrade deepchecks\" command.\n",
      "deepchecks - WARNING - You are using deepchecks version 0.14.1.dev1, however a newer version is available. Deepchecks is frequently updated with major improvements. You should consider upgrading via the \"python -m pip install --upgrade deepchecks\" command.\n",
      "deepchecks - WARNING - You are using deepchecks version 0.14.1.dev1, however a newer version is available. Deepchecks is frequently updated with major improvements. You should consider upgrading via the \"python -m pip install --upgrade deepchecks\" command.\n",
      "deepchecks - WARNING - You are using deepchecks version 0.14.1.dev1, however a newer version is available. Deepchecks is frequently updated with major improvements. You should consider upgrading via the \"python -m pip install --upgrade deepchecks\" command.\n",
      "deepchecks - WARNING - You are using deepchecks version 0.14.1.dev1, however a newer version is available. Deepchecks is frequently updated with major improvements. You should consider upgrading via the \"python -m pip install --upgrade deepchecks\" command.\n",
      "deepchecks - WARNING - You are using deepchecks version 0.14.1.dev1, however a newer version is available. Deepchecks is frequently updated with major improvements. You should consider upgrading via the \"python -m pip install --upgrade deepchecks\" command.\n",
      "deepchecks - WARNING - You are using deepchecks version 0.14.1.dev1, however a newer version is available. Deepchecks is frequently updated with major improvements. You should consider upgrading via the \"python -m pip install --upgrade deepchecks\" command.\n"
     ]
    }
   ],
   "source": [
    "evaluation_suite = model_evaluation()\n",
    "suite_result = evaluation_suite.run(train_set, new_set, model[\"regr\"])"
   ]
  },
  {
   "cell_type": "code",
   "execution_count": 33,
   "metadata": {},
   "outputs": [
    {
     "data": {
      "application/vnd.jupyter.widget-view+json": {
       "model_id": "63a1e34667f545ed9b2581c53040fe52",
       "version_major": 2,
       "version_minor": 0
      },
      "text/plain": [
       "Accordion(children=(VBox(children=(HTML(value='\\n<h1 id=\"summary_16MBM3TPSD117YXBIFRG2UTQR\">Model Evaluation S…"
      ]
     },
     "metadata": {},
     "output_type": "display_data"
    }
   ],
   "source": [
    "suite_result.show()"
   ]
  },
  {
   "cell_type": "code",
   "execution_count": 76,
   "metadata": {},
   "outputs": [
    {
     "name": "stdout",
     "output_type": "stream",
     "text": [
      "The following test failed!\n",
      "Feature Drift: Failed for 3 out of 8 columns.\n",
      "Found 3 categorical columns with Cramer's V above threshold: {'area_type': '0.23', 'city': '0.21', 'point_of_contact': '0.31'}\n",
      "\n",
      "The following test failed!\n",
      "Label Drift: Label's drift score Kolmogorov-Smirnov is 0.25\n",
      "\n",
      "The following test failed!\n",
      "Multivariate Drift: Found drift value of: 0.42, corresponding to a domain classifier AUC of: 0.71\n",
      "\n"
     ]
    }
   ],
   "source": [
    "for result in suite_result.get_not_passed_checks():\n",
    "    print(\n",
    "        \"The following test failed!\\n\"\n",
    "        f\"{result.header}: {result.conditions_results[0].details}\\n\"\n",
    "    )"
   ]
  },
  {
   "cell_type": "code",
   "execution_count": null,
   "metadata": {},
   "outputs": [],
   "source": []
  }
 ],
 "metadata": {
  "kernelspec": {
   "display_name": "mlenv",
   "language": "python",
   "name": "python3"
  },
  "language_info": {
   "codemirror_mode": {
    "name": "ipython",
    "version": 3
   },
   "file_extension": ".py",
   "mimetype": "text/x-python",
   "name": "python",
   "nbconvert_exporter": "python",
   "pygments_lexer": "ipython3",
   "version": "3.9.16"
  },
  "orig_nbformat": 4
 },
 "nbformat": 4,
 "nbformat_minor": 2
}
